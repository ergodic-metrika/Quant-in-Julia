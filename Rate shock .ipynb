{
 "cells": [
  {
   "cell_type": "code",
   "execution_count": 1,
   "id": "d44fc9bb",
   "metadata": {},
   "outputs": [
    {
     "name": "stderr",
     "output_type": "stream",
     "text": [
      "\u001b[32m\u001b[1m    Updating\u001b[22m\u001b[39m registry at `C:\\Users\\sigma\\.julia\\registries\\General.toml`\n",
      "\u001b[32m\u001b[1m   Resolving\u001b[22m\u001b[39m package versions...\n",
      "\u001b[32m\u001b[1m  No Changes\u001b[22m\u001b[39m to `C:\\Users\\sigma\\.julia\\environments\\v1.8\\Project.toml`\n",
      "\u001b[32m\u001b[1m  No Changes\u001b[22m\u001b[39m to `C:\\Users\\sigma\\.julia\\environments\\v1.8\\Manifest.toml`\n",
      "\u001b[32m\u001b[1mPrecompiling\u001b[22m\u001b[39m project...\n",
      "\u001b[32m  ✓ \u001b[39m\u001b[90mDifferentialEquations\u001b[39m\n",
      "  1 dependency successfully precompiled in 44 seconds. 347 already precompiled.\n"
     ]
    }
   ],
   "source": [
    "#import Pkg; Pkg.add(\"DSGE\")"
   ]
  },
  {
   "cell_type": "code",
   "execution_count": 21,
   "id": "52eb4ad5",
   "metadata": {},
   "outputs": [],
   "source": [
    "using DSGE, Plots"
   ]
  },
  {
   "cell_type": "code",
   "execution_count": 25,
   "id": "c4dda12a",
   "metadata": {},
   "outputs": [
    {
     "ename": "LoadError",
     "evalue": "LoadError: UndefVarError: @defVar not defined\nin expression starting at In[25]:5",
     "output_type": "error",
     "traceback": [
      "LoadError: UndefVarError: @defVar not defined\nin expression starting at In[25]:5",
      ""
     ]
    }
   ],
   "source": [
    "function simple_nk_model()\n",
    "    model = DSGEModel()\n",
    "\n",
    "    # Variables\n",
    "    @defVar(model, y_t)      # Output gap\n",
    "    @defVar(model, pi_t)     # Inflation rate\n",
    "    @defVar(model, r_t)      # Nominal interest rate\n",
    "    @defVar(model, i_t)      # Nominal interest rate set by the central bank (Federal funds rate)\n",
    "    @defVar(model, y_t_lag)  # Lagged output gap\n",
    "    @defVar(model, pi_t_lag) # Lagged inflation rate\n",
    "    @defVar(model, r_t_lag)  # Lagged nominal interest rate\n",
    "\n",
    "    # Parameters\n",
    "    @defParam(model, beta, 0.99)     # Discount factor\n",
    "    @defParam(model, kappa, 0.1)     # Phillips curve slope\n",
    "    @defParam(model, phi_pi, 1.5)    # Taylor rule coefficient on inflation\n",
    "    @defParam(model, phi_y, 0.5)     # Taylor rule coefficient on output gap\n",
    "    @defParam(model, rho_r, 0.8)     # Interest rate smoothing parameter\n",
    "    @defParam(model, sigma, 0.157)   # Standard deviation of the monetary policy shock\n",
    "\n",
    "    # Equations\n",
    "    @defEquation(model, y_t == -kappa * (r_t_lag - pi_t_lag) + y_t_lag)   # IS curve\n",
    "    @defEquation(model, pi_t == beta * pi_t_lag + kappa * y_t)            # Phillips curve\n",
    "    @defEquation(model, r_t == rho_r * r_t_lag + (1 - rho_r) * (phi_pi * pi_t + phi_y * y_t) + i_t) # Taylor rule\n",
    "    @defEquation(model, i_t ~ Normal(0, sigma))                           # Monetary policy shock\n",
    "\n",
    "    return model\n",
    "end"
   ]
  },
  {
   "cell_type": "code",
   "execution_count": 26,
   "id": "0f9eb8ac",
   "metadata": {},
   "outputs": [
    {
     "ename": "LoadError",
     "evalue": "UndefVarError: simple_nk_model not defined",
     "output_type": "error",
     "traceback": [
      "UndefVarError: simple_nk_model not defined",
      "",
      "Stacktrace:",
      " [1] top-level scope",
      "   @ In[26]:1"
     ]
    }
   ],
   "source": [
    "model = simple_nk_model()\n",
    "solution = solve(model)\n",
    "shock = [0.01]  # 1% shock to the Federal funds rate\n",
    "simulation = simulate(model, solution, shocks=shock, periods=40)"
   ]
  },
  {
   "cell_type": "code",
   "execution_count": 27,
   "id": "c1cd41bd",
   "metadata": {},
   "outputs": [
    {
     "ename": "LoadError",
     "evalue": "UndefVarError: simulation not defined",
     "output_type": "error",
     "traceback": [
      "UndefVarError: simulation not defined",
      "",
      "Stacktrace:",
      " [1] top-level scope",
      "   @ In[27]:1"
     ]
    }
   ],
   "source": [
    "plot(simulation, variables=[\"y_t\", \"pi_t\", \"r_t\"], title=\"Impulse Responses to a Fed Funds Rate Shock\")"
   ]
  },
  {
   "cell_type": "code",
   "execution_count": null,
   "id": "1f5fa92a",
   "metadata": {},
   "outputs": [],
   "source": []
  }
 ],
 "metadata": {
  "kernelspec": {
   "display_name": "Julia 1.8.5",
   "language": "julia",
   "name": "julia-1.8"
  },
  "language_info": {
   "file_extension": ".jl",
   "mimetype": "application/julia",
   "name": "julia",
   "version": "1.8.5"
  }
 },
 "nbformat": 4,
 "nbformat_minor": 5
}
